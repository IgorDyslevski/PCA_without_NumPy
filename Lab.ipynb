{
 "cells": [
  {
   "cell_type": "code",
   "execution_count": 1,
   "id": "af497beb-643d-4212-8daf-67f6bf1f78fb",
   "metadata": {},
   "outputs": [],
   "source": [
    "from copy import deepcopy\n",
    "import math\n",
    "import random\n",
    "import matplotlib.pyplot as plt\n",
    "from matplotlib.figure import Figure\n",
    "import numpy as np"
   ]
  },
  {
   "cell_type": "code",
   "execution_count": 2,
   "id": "74266a03-9666-43dd-b248-b860f4b39d06",
   "metadata": {},
   "outputs": [],
   "source": [
    "class ABCMatrix:\n",
    "    def __init__(self, matrix, n, m):\n",
    "        self._matrix = matrix\n",
    "        self._n = n\n",
    "        self._m = m\n",
    "\n",
    "    def matrix(self):\n",
    "        return self._matrix\n",
    "\n",
    "    def n(self):\n",
    "        return self._n\n",
    "\n",
    "    def m(self):\n",
    "        return self._m\n",
    "\n",
    "    def trace(self):\n",
    "        pass\n",
    "\n",
    "    def det(self):\n",
    "        pass\n",
    "\n",
    "    def __getitem__(self, idx):\n",
    "        pass\n",
    "\n",
    "    def __add__(self, val):\n",
    "        pass\n",
    "\n",
    "    def __mul__(self, val):\n",
    "        pass\n",
    "\n",
    "    def __repr__(self):\n",
    "        return f'ABCMatrix(matrix={self.matrix()}, n={self.n()}, m={self.m()})'\n",
    "\n",
    "\n",
    "class DenseMatrix(ABCMatrix):\n",
    "    def __init__(self, matrix, n=None, m=None):\n",
    "        if not (n is None and m is None):\n",
    "            assert len(matrix) == n and len(matrix[0]) == m\n",
    "        else:\n",
    "            n, m = len(matrix), len(matrix[0])\n",
    "        super().__init__(matrix, n, m)\n",
    "        self.coefs = None\n",
    "\n",
    "    def __getitem__(self, idx):\n",
    "        return self.matrix()[idx]\n",
    "\n",
    "    def __repr__(self):\n",
    "        return f'DenseMatrix(matrix={self.matrix()}, n={self.n()}, m={self.m()})'\n",
    "\n",
    "\n",
    "    def trace(self):\n",
    "        result = 0\n",
    "        n, m = self.n(), self.m()\n",
    "        assert n == m, \"Матрица должна быть квадратной\"\n",
    "        for i in range(n):\n",
    "            result += self.matrix()[i][i]\n",
    "        return result\n",
    "\n",
    "    def __add__(self, val):\n",
    "        assert self.n() == val.n() and self.m() == val.m(), \"Размеры матриц должны совпадать\"\n",
    "        matrix = [[0] * self.m() for _ in range(self.n())]\n",
    "        for i in range(self.n()):\n",
    "            for j in range(self.m()):\n",
    "                matrix[i][j] = self.matrix()[i][j] + val.matrix()[i][j]\n",
    "        return DenseMatrix(matrix)\n",
    "    \n",
    "    def __sub__(self, val):\n",
    "        assert self.n() == val.n() and self.m() == val.m(), \"Размеры матриц должны совпадать\"\n",
    "        matrix = [[0] * self.m() for _ in range(self.n())]\n",
    "        for i in range(self.n()):\n",
    "            for j in range(self.m()):\n",
    "                matrix[i][j] = self.matrix()[i][j] - val.matrix()[i][j]\n",
    "        return DenseMatrix(matrix)\n",
    "\n",
    "    def __mul__(self, val):\n",
    "        if isinstance(val, (int, float)):\n",
    "            matrix = [[0] * self.m() for _ in range(self.n())]\n",
    "            for i in range(self.n()):\n",
    "                for j in range(self.m()):\n",
    "                    matrix[i][j] = self.matrix()[i][j] * val\n",
    "            return DenseMatrix(matrix)\n",
    "        else:\n",
    "            assert self.m() == val.n(), \"Количество столбцов первой матрицы должно совпадать с количеством строк второй\"\n",
    "            matrix = [[0] * val.m() for _ in range(self.n())]\n",
    "            \n",
    "            for i in range(self.n()):\n",
    "                for j in range(val.m()):\n",
    "                    for k in range(val.n()):\n",
    "                        matrix[i][j] += self.matrix()[i][k] * val.matrix()[k][j]\n",
    "            \n",
    "            return DenseMatrix(matrix)\n",
    "\n",
    "    def det(self, matrix=None):\n",
    "        if matrix is None:\n",
    "            matrix = self\n",
    "        if matrix.n() == 1:\n",
    "            return self[0][0]\n",
    "        if matrix.n() == 2:\n",
    "            return matrix[0][0] * matrix[1][1] - matrix[0][1] * matrix[1][0]\n",
    "        det = 0\n",
    "        for col in range(matrix.n()):\n",
    "            minor = [[matrix[i][j] for j in range(matrix.n()) if j != col] for i in range(1, matrix.n())]\n",
    "            det += ((-1) ** col) * self[0][col] * self.det(DenseMatrix(minor))\n",
    "        return det\n",
    "\n",
    "    def det_gauss(self):\n",
    "        assert self.n() == self.m()\n",
    "        det = 1\n",
    "        matrix = deepcopy(self.matrix())\n",
    "        for i in range(self.n()):\n",
    "            max_row = i\n",
    "            for k in range(i + 1, self.n()):\n",
    "                if abs(matrix[k][i]) > abs(matrix[max_row][i]):\n",
    "                    max_row = k\n",
    "            if max_row != i:\n",
    "                matrix[i], matrix[max_row] = matrix[max_row], matrix[i]\n",
    "                det *= -1\n",
    "            for j in range(i + 1, self.n()):\n",
    "                if matrix[i][i] == 0:\n",
    "                    return 0\n",
    "                factor = matrix[j][i] / matrix[i][i]\n",
    "                for z in range(i, self.n()):\n",
    "                    matrix[j][z] -= factor * matrix[i][z]\n",
    "       \n",
    "        for i in range(self.n()):\n",
    "            det *= matrix[i][i]\n",
    "        return det\n",
    "    \n",
    "    def gauss_solver(self, b):\n",
    "        assert self.n() == self.m(), \"Матрица должна быть квадратной\"\n",
    "        if isinstance(b, list):\n",
    "            assert len(b) == self.n(), \"Размерность вектора b должна совпадать с количеством строк матрицы\"\n",
    "            augmented_matrix = deepcopy(self.matrix())\n",
    "            for i in range(self.n()):\n",
    "                augmented_matrix[i].append(b[i])\n",
    "        elif isinstance(b, DenseMatrix):\n",
    "            assert b.m() == 1 and b.n() == self.n(), \"Размерность вектора b должна совпадать с количеством строк матрицы\"\n",
    "            augmented_matrix = deepcopy(self.matrix())\n",
    "            for i in range(self.n()):\n",
    "                augmented_matrix[i].append(b[i][0])\n",
    "        else:\n",
    "            raise TypeError(\"Неподдерживаемый формат\")\n",
    "\n",
    "        n = self.n()\n",
    "\n",
    "        # Прямой ход (приведение к верхнетреугольному виду)\n",
    "        for i in range(n):\n",
    "            max_row = i\n",
    "            for k in range(i + 1, n):\n",
    "                if abs(augmented_matrix[k][i]) > abs(augmented_matrix[max_row][i]):\n",
    "                    max_row = k\n",
    "\n",
    "            # Переставляем строки\n",
    "            augmented_matrix[i], augmented_matrix[max_row] = augmented_matrix[max_row], augmented_matrix[i]\n",
    "\n",
    "            if augmented_matrix[i][i] == 0:\n",
    "                return None  # Определитель равен 0\n",
    "\n",
    "            pivot_element = augmented_matrix[i][i]\n",
    "            for j in range(i, n + 1):\n",
    "                augmented_matrix[i][j] /= pivot_element\n",
    "\n",
    "            # Обнуляем элементы ниже\n",
    "            for k in range(i + 1, n):\n",
    "                factor = augmented_matrix[k][i]\n",
    "                for j in range(i, n + 1):\n",
    "                    augmented_matrix[k][j] -= factor * augmented_matrix[i][j]\n",
    "\n",
    "        # Обратный ход (нахождение решений)\n",
    "        x = [0] * n\n",
    "        for i in range(n - 1, -1, -1):\n",
    "            x[i] = augmented_matrix[i][n]\n",
    "            for j in range(i + 1, n):\n",
    "                x[i] -= augmented_matrix[i][j] * x[j]\n",
    "\n",
    "        return DenseMatrix([[val] for val in x], n, 1)\n",
    "    \n",
    "    @staticmethod\n",
    "    def I(n):\n",
    "        matrix = [[1.0 if i == j else 0.0 for j in range(n)] for i in range(n)]\n",
    "        return DenseMatrix(matrix)\n",
    "\n",
    "    def means(self):\n",
    "        return [sum(self[i][j] for i in range(self.n())) / self.n() for j in range(self.m())]\n",
    "    \n",
    "    def center(self):\n",
    "        centers_by_columns = self.means()\n",
    "        mean_X = DenseMatrix(list(centers_by_columns for _ in range(self.n())))\n",
    "        return self - mean_X\n",
    "\n",
    "    def T(self):\n",
    "        matrix_T = list(zip(*self.matrix()))\n",
    "        return DenseMatrix(matrix_T)\n",
    "    \n",
    "    def covariance_matrix(self):\n",
    "        X_centered = self.center()\n",
    "        n = X_centered.n()\n",
    "        X_T = X_centered.T()\n",
    "        C = (X_T * X_centered) * (1 / (n - 1))\n",
    "        return C\n",
    "    \n",
    "    def poly_char(self):\n",
    "        assert self.n() == self.m(), \"Матрица должна быть квадратной\"\n",
    "        n = self.n()\n",
    "        coeffs = [0] * (n + 1)\n",
    "        coeffs[n] = 1\n",
    "        I = DenseMatrix.I(n)\n",
    "        M = DenseMatrix(deepcopy(self.matrix()))\n",
    "        \n",
    "        for k in range(1, n + 1):\n",
    "            # Вычисляем коэффициент\n",
    "            c_k = -M.trace() / k\n",
    "            coeffs[n - k] = c_k\n",
    "            \n",
    "            # Обновляем матрицу M для следующей итерации\n",
    "            if k < n:\n",
    "                M = self * (M + I * c_k)\n",
    "\n",
    "        self.coefs = coeffs\n",
    "        return coeffs\n",
    "    \n",
    "    def poly_eval(self, lambd):\n",
    "        if self.coefs is None:\n",
    "            self.poly_char()\n",
    "        result = 0\n",
    "        for i in range(len(self.coefs)):\n",
    "            result += self.coefs[i] * lambd ** i\n",
    "        return result\n",
    "    \n",
    "    def eigenvalues(self, tol: float = 1e-6, grid=1000, steps=100):\n",
    "        n = self.n()\n",
    "        trace = self.trace()\n",
    "        left = 0\n",
    "        right = trace + 1\n",
    "\n",
    "        num_roots = n\n",
    "        roots = []\n",
    "        intervals = []\n",
    "        xs = [left + (right - left) * i / grid for i in range(grid + 1)]\n",
    "        prev_val = self.poly_eval(xs[0])\n",
    "        for i in range(1, len(xs)):\n",
    "            val = self.poly_eval(xs[i])\n",
    "            if prev_val * val < 0:\n",
    "                intervals.append((xs[i-1], xs[i]))\n",
    "            prev_val = val\n",
    "            if len(intervals) == num_roots:\n",
    "                break\n",
    "    \n",
    "        # Бисекция на найденных интервалах\n",
    "        for a, b in intervals:\n",
    "            for _ in range(steps):\n",
    "                mid = (a + b) / 2\n",
    "                f_a = self.poly_eval(a)\n",
    "                f_mid = self.poly_eval(mid)\n",
    "                if abs(f_mid) < tol:\n",
    "                    break\n",
    "                if f_a * f_mid < 0:\n",
    "                    b = mid\n",
    "                else:\n",
    "                    a = mid\n",
    "            roots.append((a + b) / 2)\n",
    "        return roots\n",
    "    \n",
    "    def norm(self):\n",
    "        assert self.m() == 1, \"Норма определена только для векторов\"\n",
    "        sum_sq = sum(self._matrix[i][0] ** 2 for i in range(self.n()))\n",
    "        return sum_sq ** 0.5\n",
    "    \n",
    "    def gauss_solver_eigenvector(self, lambda_approx, epsilon=1e-5):\n",
    "        assert self.n() == self.m(), \"Матрица должна быть квадратной\"\n",
    "        \n",
    "        n = self.n()\n",
    "        \n",
    "        augmented_matrix = deepcopy(self.matrix())\n",
    "        for i in range(n):\n",
    "            augmented_matrix[i][i] = augmented_matrix[i][i] - lambda_approx\n",
    "\n",
    "        pivot_col_indices = [-1] * n\n",
    "        \n",
    "        current_col = 0\n",
    "        for current_row in range(n):\n",
    "            if current_col >= n: break # Больше нет столбцов для выбора ведущего элемента\n",
    "                \n",
    "            pivot_row = current_row\n",
    "            max_abs_val = abs(augmented_matrix[current_row][current_col])\n",
    "            for k in range(current_row + 1, n):\n",
    "                if abs(augmented_matrix[k][current_col]) > max_abs_val:\n",
    "                    max_abs_val = abs(augmented_matrix[k][current_col])\n",
    "                    pivot_row = k\n",
    "\n",
    "            if pivot_row != current_row:\n",
    "                augmented_matrix[current_row], augmented_matrix[pivot_row] = augmented_matrix[pivot_row], augmented_matrix[current_row]\n",
    "\n",
    "            pivot_value = augmented_matrix[current_row][current_col]\n",
    "\n",
    "            # Проверка, является ли ведущий элемент нулевым\n",
    "            if abs(pivot_value) < epsilon:\n",
    "                current_col += 1\n",
    "                continue\n",
    "\n",
    "            pivot_col_indices[current_row] = current_col\n",
    "\n",
    "            # Обнуление элементов ниже\n",
    "            for i in range(current_row + 1, n):\n",
    "                factor = augmented_matrix[i][current_col] / pivot_value\n",
    "                for j in range(current_col, n):\n",
    "                    augmented_matrix[i][j] -= factor * augmented_matrix[current_row][j]\n",
    "                augmented_matrix[i][current_col] = 0.0\n",
    "\n",
    "            current_col += 1\n",
    "\n",
    "        rank = sum(1 for i in range(n) if any(abs(augmented_matrix[i][j]) > epsilon for j in range(n)))\n",
    "\n",
    "        if rank == n:\n",
    "             return None # Не тривиальное решение\n",
    "\n",
    "        x = [0] * n\n",
    "\n",
    "        # Не ведущие переменные\n",
    "        pivot_cols_set = set(idx for idx in pivot_col_indices if idx != -1)\n",
    "        free_var_indices = sorted([j for j in range(n) if j not in pivot_cols_set])\n",
    "\n",
    "        # Устанавливаем свободную переменную\n",
    "        free_var_to_set = free_var_indices[-1]\n",
    "        x[free_var_to_set] = 1.0\n",
    "        \n",
    "        for i in range(n - 1, -1, -1):\n",
    "            pivot_col_for_row_i = pivot_col_indices[i]\n",
    "\n",
    "            if pivot_col_for_row_i == -1:\n",
    "                continue\n",
    "\n",
    "            pivot_val = augmented_matrix[i][pivot_col_for_row_i]\n",
    "\n",
    "            if abs(pivot_val) < epsilon:\n",
    "                 continue\n",
    "\n",
    "            sum_known_terms = 0.0\n",
    "            for j in range(pivot_col_for_row_i + 1, n):\n",
    "                sum_known_terms += augmented_matrix[i][j] * x[j]\n",
    "                \n",
    "            x[pivot_col_for_row_i] = -sum_known_terms / pivot_val\n",
    "\n",
    "\n",
    "        # Нормализация\n",
    "        norm_sq = sum(val**2 for val in x)\n",
    "        if norm_sq < epsilon**2:\n",
    "            return None # Нулевой вектор\n",
    "\n",
    "        norm = norm_sq**0.5\n",
    "        x_normalized = [val / norm for val in x]\n",
    "\n",
    "        eigenvector_matrix_data = [[val] for val in x_normalized]\n",
    "        return DenseMatrix(eigenvector_matrix_data, n, 1)\n",
    "    \n",
    "    @staticmethod\n",
    "    def concatenate_vectors(*vectors):\n",
    "        assert len(vectors) > 0\n",
    "        assert len(set(map(lambda x: (x.m(), x.n()), vectors))) == 1\n",
    "        assert (vectors[0].n() == 1) ^ (vectors[0].m() == 1)\n",
    "        if vectors[0].n() == 1:\n",
    "            matrix = [[0] * vectors[0].m() for _ in range(len(vectors))]\n",
    "            for idx in range(len(vectors)):\n",
    "                for j in range(vectors[0].m()):\n",
    "                    matrix[idx][j] = vectors[idx][0][j]\n",
    "        else:\n",
    "            matrix = [[0] * len(vectors) for _ in range(vectors[0].n())]\n",
    "            for idx in range(len(vectors)):\n",
    "                for i in range(vectors[0].n()):\n",
    "                    matrix[i][idx] = vectors[idx][i][0]\n",
    "        return DenseMatrix(matrix)\n",
    "    \n",
    "    @staticmethod\n",
    "    def cut_by_vector(matrix):\n",
    "        vectors = []\n",
    "        for j in range(matrix.m()):\n",
    "            vectors.append(DenseMatrix([[matrix[i][j]] for i in range(matrix.n())]))\n",
    "        return vectors\n"
   ]
  },
  {
   "cell_type": "code",
   "execution_count": 3,
   "id": "d49e3547-c9d7-47d0-8f76-6a45fcadacfb",
   "metadata": {},
   "outputs": [],
   "source": [
    "def gauss_solver(A: DenseMatrix, b: DenseMatrix) -> DenseMatrix:\n",
    "    \"\"\"\n",
    "    Вход:\n",
    "    A: матрица коэффициентов (n × n)\n",
    "    b: вектор правых частей (n × 1)\n",
    "    Выход:\n",
    "    list[DenseMatrix]: список базисных векторов решения системы\n",
    "    Raises:\n",
    "    ValueError: если система несовместна\n",
    "    \"\"\"\n",
    "    # Используем метод Гаусса из matrix.py\n",
    "    result = A.gauss_solver(b)\n",
    "    if result is None:\n",
    "        raise ValueError(\"Система несовместна или имеет бесконечно много решений\")\n",
    "    return result"
   ]
  },
  {
   "cell_type": "code",
   "execution_count": 4,
   "id": "9256df2a-8b90-4002-b73a-0530b89a5b59",
   "metadata": {},
   "outputs": [
    {
     "data": {
      "text/plain": [
       "DenseMatrix(matrix=[[1.0], [2.0]], n=2, m=1)"
      ]
     },
     "execution_count": 4,
     "metadata": {},
     "output_type": "execute_result"
    }
   ],
   "source": [
    "gauss_solver(DenseMatrix([[2, 3], [4, 7]]), DenseMatrix([[8], [18]]))"
   ]
  },
  {
   "cell_type": "code",
   "execution_count": 5,
   "id": "5cd0fac9-1018-4b90-bda7-0d1e593c1957",
   "metadata": {},
   "outputs": [
    {
     "data": {
      "text/plain": [
       "DenseMatrix(matrix=[[3.0], [1.0000000000000002], [2.0000000000000004]], n=3, m=1)"
      ]
     },
     "execution_count": 5,
     "metadata": {},
     "output_type": "execute_result"
    }
   ],
   "source": [
    "gauss_solver(DenseMatrix([[2, 3, 1], [4, 5, 2], [2, 1, 3]]), DenseMatrix([[11], [21], [13]]))"
   ]
  },
  {
   "cell_type": "code",
   "execution_count": 6,
   "id": "1ad5e498-b917-46e8-b56b-dc6100a37fbb",
   "metadata": {},
   "outputs": [
    {
     "data": {
      "text/plain": [
       "DenseMatrix(matrix=[[0.37735849056603765], [3.301886792452831], [0.4150943396226401], [5.528301886792454]], n=4, m=1)"
      ]
     },
     "execution_count": 6,
     "metadata": {},
     "output_type": "execute_result"
    }
   ],
   "source": [
    "gauss_solver(DenseMatrix([[2, 1, 1, 1], [3, 5, 2, 1], [1, 3, 4, 2], [4, 2, 3, 5]]), DenseMatrix([[10], [24], [23], [37]]))"
   ]
  },
  {
   "cell_type": "code",
   "execution_count": 7,
   "id": "dca1a10e-d057-4bc5-ba69-001d49acb652",
   "metadata": {},
   "outputs": [],
   "source": [
    "def center_data(X: DenseMatrix) -> DenseMatrix:\n",
    "    \"\"\"\n",
    "    Вход: матрица данных X (n × m)\n",
    "    Выход: центрированная матрица X_centered (n × m)\n",
    "    \"\"\"\n",
    "    return X.center()"
   ]
  },
  {
   "cell_type": "code",
   "execution_count": 8,
   "id": "fef2f810-1dad-487b-8294-2b5fc48bde8b",
   "metadata": {},
   "outputs": [
    {
     "data": {
      "text/plain": [
       "DenseMatrix(matrix=[[-3.0, -3.0, -3.0], [0.0, 0.0, 0.0], [3.0, 3.0, 3.0]], n=3, m=3)"
      ]
     },
     "execution_count": 8,
     "metadata": {},
     "output_type": "execute_result"
    }
   ],
   "source": [
    "center_data(DenseMatrix([[1, 2, 3], [4, 5, 6], [7, 8, 9]]))"
   ]
  },
  {
   "cell_type": "code",
   "execution_count": 9,
   "id": "c703637a-f4d8-4f53-bc66-4b956275d5db",
   "metadata": {},
   "outputs": [],
   "source": [
    "def covariance_matrix(X_centered: DenseMatrix) -> DenseMatrix:\n",
    "    \"\"\"\n",
    "    Вход: центрированная матрица X_centered (n × m)\n",
    "    Выход: матрица ковариаций C (m × m)\n",
    "    \"\"\"\n",
    "    return X_centered.covariance_matrix()"
   ]
  },
  {
   "cell_type": "code",
   "execution_count": 10,
   "id": "9a066cd8-b37e-4715-a8f4-95a8c9a695f4",
   "metadata": {},
   "outputs": [
    {
     "data": {
      "text/plain": [
       "DenseMatrix(matrix=[[9.0, 9.0, 9.0], [9.0, 9.0, 9.0], [9.0, 9.0, 9.0]], n=3, m=3)"
      ]
     },
     "execution_count": 10,
     "metadata": {},
     "output_type": "execute_result"
    }
   ],
   "source": [
    "covariance_matrix(DenseMatrix([[1, 2, 3], [4, 5, 6], [7, 8, 9]]))"
   ]
  },
  {
   "cell_type": "code",
   "execution_count": 11,
   "id": "c271a192-74b8-44a0-ac55-647d4dc1d77a",
   "metadata": {},
   "outputs": [],
   "source": [
    "def find_eigenvalues(C: DenseMatrix, tol: float = 1e-6, grid=1000) -> list[float]:\n",
    "    return C.eigenvalues(tol=tol, grid=grid)"
   ]
  },
  {
   "cell_type": "code",
   "execution_count": 12,
   "id": "739cbb2c-8fd3-4188-9636-73d48884a2fe",
   "metadata": {},
   "outputs": [
    {
     "data": {
      "text/plain": [
       "[0.26794921875, 0.9999996093750001, 3.7320508300781254]"
      ]
     },
     "execution_count": 12,
     "metadata": {},
     "output_type": "execute_result"
    }
   ],
   "source": [
    "evals = find_eigenvalues(DenseMatrix([[2, 1, 1],\n",
    " [1, 2, 1],\n",
    " [1, 1, 1]]), grid=10000)\n",
    "evals"
   ]
  },
  {
   "cell_type": "code",
   "execution_count": 13,
   "id": "0af874ab-5f38-4498-b801-b039841f33be",
   "metadata": {},
   "outputs": [],
   "source": [
    "def find_eigenvectors(C: DenseMatrix, eigenvalues: list[float]) -> list[DenseMatrix]:\n",
    "    \"\"\"\n",
    "    Вход:\n",
    "    C: матрица ковариаций (m × m)\n",
    "    eigenvalues: список собственных значений\n",
    "    Выход: список собственных векторов (каждый вектор - объект DenseMatrix)\n",
    "    \"\"\"\n",
    "    evecs = []\n",
    "    for eival in eigenvalues:\n",
    "        evecs.append(C.gauss_solver_eigenvector(lambda_approx=eival))\n",
    "    return DenseMatrix.concatenate_vectors(*evecs)"
   ]
  },
  {
   "cell_type": "code",
   "execution_count": 14,
   "id": "a0ec2edc-d573-4dd1-8392-4596d74b9757",
   "metadata": {},
   "outputs": [
    {
     "data": {
      "text/plain": [
       "[[-0.3250575861415274, -0.7071066430797679, 0.6279630247328335],\n",
       " [-0.32505758614152747, 0.7071069192933003, 0.6279630378529635],\n",
       " [0.8880738321691992, 0.0, 0.4597008403939113]]"
      ]
     },
     "execution_count": 14,
     "metadata": {},
     "output_type": "execute_result"
    }
   ],
   "source": [
    "find_eigenvectors(DenseMatrix([[2, 1, 1],\n",
    " [1, 2, 1],\n",
    " [1, 1, 1]]), evals).matrix()"
   ]
  },
  {
   "cell_type": "code",
   "execution_count": 15,
   "id": "766d6a33-c03a-4f6e-b958-6371168159d4",
   "metadata": {},
   "outputs": [],
   "source": [
    "def explained_variance_ratio(eigenvalues: list[float], k: int) -> float:\n",
    "    \"\"\"\n",
    "    Вход:\n",
    "    eigenvalues: список собственных значений\n",
    "    k: число компонент\n",
    "    Выход: доля объяснённой дисперсии\n",
    "    \"\"\"\n",
    "    eigenvalues_sorted = sorted(eigenvalues, reverse=True)\n",
    "    return sum(eigenvalues_sorted[:k]) / sum(eigenvalues_sorted)"
   ]
  },
  {
   "cell_type": "code",
   "execution_count": 16,
   "id": "9ef5ad69-edb0-4da2-9f72-788328249289",
   "metadata": {},
   "outputs": [
    {
     "data": {
      "text/plain": [
       "0.9464101525866315"
      ]
     },
     "execution_count": 16,
     "metadata": {},
     "output_type": "execute_result"
    }
   ],
   "source": [
    "explained_variance_ratio(evals, 2)"
   ]
  },
  {
   "cell_type": "code",
   "execution_count": 17,
   "id": "45a516c3-365a-4449-a611-dc5428995c4c",
   "metadata": {},
   "outputs": [],
   "source": [
    "matrix = [\n",
    "    [23, 54, 12, 78, 91, 34, 67, 88],\n",
    "    [11, 87, 45, 61, 33, 99, 5, 72],\n",
    "    [90, 3, 77, 29, 49, 17, 82, 55],\n",
    "    [66, 42, 19, 88, 51, 76, 30, 9],\n",
    "    [4, 37, 59, 10, 64, 81, 28, 93],\n",
    "    [70, 15, 98, 2, 25, 58, 41, 36],\n",
    "    [50, 80, 20, 40, 60, 10, 30, 90],\n",
    "    [13, 26, 39, 52, 65, 78, 91, 4],\n",
    "    [85, 19, 32, 45, 58, 71, 84, 97],\n",
    "    [1, 12, 23, 34, 45, 56, 67, 78],\n",
    "    [33, 66, 99, 22, 55, 88, 11, 44],\n",
    "    [95, 84, 73, 62, 51, 40, 29, 18],\n",
    "    [22, 33, 44, 55, 66, 77, 88, 99],\n",
    "    [16, 32, 48, 64, 80, 96, 12, 28],\n",
    "    [75, 5, 15, 25, 35, 45, 55, 65],\n",
    "    [47, 38, 29, 10, 1, 92, 83, 74]\n",
    "]"
   ]
  },
  {
   "cell_type": "code",
   "execution_count": 18,
   "id": "5b7d3e07-5db1-4afe-80e9-ae0eb5c1deef",
   "metadata": {},
   "outputs": [],
   "source": [
    "def pca(X: DenseMatrix, k: int) -> tuple[DenseMatrix, float]:\n",
    "    \"\"\"\n",
    "    Вход:\n",
    "    X: матрица данных (n × m)\n",
    "    k: число главных компонент\n",
    "    Выход:\n",
    "    X_proj: проекция данных (n × k)\n",
    "    : доля объяснённой дисперсии\n",
    "    \"\"\"\n",
    "    # 1. Центрирование\n",
    "    # X_centered = X.center()\n",
    "    X_centered = center_data(X)\n",
    "    # 2. Ковариационная матрица\n",
    "    # C = (X_centered.T() * X_centered) * (1 / (X_centered.n() - 1))\n",
    "    C = covariance_matrix(X_centered)\n",
    "    # 3. Собственные значения и векторы\n",
    "    eigenvalues = find_eigenvalues(C)\n",
    "    eigenvectors = DenseMatrix.cut_by_vector(find_eigenvectors(C, eigenvalues))\n",
    "    # 4. Сортировка по убыванию собственных значений\n",
    "    idxs = sorted(range(len(eigenvalues)), key=lambda i: -eigenvalues[i])\n",
    "    top_vectors = [eigenvectors[i] for i in idxs[:k]]\n",
    "    # Собираем матрицу из первых k собственных векторов (столбцы)\n",
    "    V_k = DenseMatrix([[top_vectors[j][i][0] for j in range(k)] for i in range(X.m()) ])\n",
    "    # 5. Проекция\n",
    "    X_proj = X_centered * V_k\n",
    "    # 6. Доля объяснённой дисперсии\n",
    "    var_ratio = explained_variance_ratio(eigenvalues, k)\n",
    "    return X_proj, var_ratio"
   ]
  },
  {
   "cell_type": "code",
   "execution_count": 19,
   "id": "e8fa46ff-0398-4e20-b900-e8dadc0303cd",
   "metadata": {},
   "outputs": [],
   "source": [
    "def pca_np(X, n_components):\n",
    "    X_centered = X - np.mean(X, axis=0)\n",
    "    cov_matrix = np.cov(X_centered, rowvar=False)\n",
    "    eigenvalues, eigenvectors = np.linalg.eigh(cov_matrix)\n",
    "    idx = np.argsort(eigenvalues)[::-1]\n",
    "    eigenvectors = eigenvectors[:, idx]\n",
    "    return X_centered @ eigenvectors[:, :n_components]"
   ]
  },
  {
   "cell_type": "code",
   "execution_count": 20,
   "id": "3c25c523-6bad-4859-b379-0a9ee93b0ff3",
   "metadata": {},
   "outputs": [
    {
     "data": {
      "text/plain": [
       "(DenseMatrix(matrix=[[12.862947477823209, 54.84680955674524], [-68.69494309984603, 30.89644244856015], [61.36115969095711, -55.71677836738444], [-32.32644780894472, -20.648405784728034], [-16.07372388028857, 34.286104926003866], [7.9155885258059655, -68.24597519214842], [4.913348856839891, 15.363679652441318], [-4.437837705678238, 5.566866524193802], [54.77749157590084, 4.638984391647309], [25.46796107268499, 43.63286784851995], [-59.52571302685211, -26.48325939453078], [-32.95387086174539, -67.37329080612784], [24.924299843434802, 46.434070369479926], [-58.048181806868286, 10.832919695075129], [47.735715037623045, -14.319545455293822], [32.10220610915351, 6.2885095875466375]], n=16, m=2),\n",
       " 0.5056014808614887)"
      ]
     },
     "execution_count": 20,
     "metadata": {},
     "output_type": "execute_result"
    }
   ],
   "source": [
    "pca(DenseMatrix(matrix), 2)"
   ]
  },
  {
   "cell_type": "code",
   "execution_count": 21,
   "id": "0d00dc2b-e2d0-4c38-9be5-fc58dda87a5a",
   "metadata": {},
   "outputs": [],
   "source": [
    "x, y = list(zip(*map(lambda x: list(zip(*x.matrix()))[0], DenseMatrix.cut_by_vector(pca(DenseMatrix(matrix), 2)[0].T()))))"
   ]
  },
  {
   "cell_type": "code",
   "execution_count": 22,
   "id": "bc2ecc37-d02b-4362-b3f7-f328bae2f69a",
   "metadata": {},
   "outputs": [],
   "source": [
    "data = pca_np(np.array(matrix), 2)\n",
    "x2, y2 = data[:, 0], data[:, 1]"
   ]
  },
  {
   "cell_type": "code",
   "execution_count": 23,
   "id": "dca49f4f-e29a-4c53-93c9-28dde4d8776a",
   "metadata": {},
   "outputs": [
    {
     "data": {
      "image/png": "[encoded data removed]",
      "text/plain": [
       "<Figure size 640x480 with 1 Axes>"
      ]
     },
     "metadata": {},
     "output_type": "display_data"
    }
   ],
   "source": [
    "plt.scatter(x, y, s=200)\n",
    "plt.scatter(-x2, -y2, s=100)\n",
    "plt.show()"
   ]
  },
  {
   "cell_type": "code",
   "execution_count": 24,
   "id": "947159d5-03ee-4036-8d77-31e9afd77a8e",
   "metadata": {},
   "outputs": [],
   "source": [
    "def plot_pca_projection(X_proj: DenseMatrix) -> Figure:\n",
    "    \"\"\"\n",
    "    Вход: проекция данных X_proj (n × 2)\n",
    "    Выход: объект Figure из Matplotlib\n",
    "    \"\"\"\n",
    "    x = [X_proj[i][0] for i in range(X_proj.n())]\n",
    "    y = [X_proj[i][1] for i in range(X_proj.n())]\n",
    "    fig, ax = plt.subplots()\n",
    "    ax.scatter(x, y)\n",
    "    ax.set_xlabel('PC1')\n",
    "    ax.set_ylabel('PC2')\n",
    "    ax.set_title('PCA Projection')\n",
    "    return fig"
   ]
  },
  {
   "cell_type": "code",
   "execution_count": 25,
   "id": "156d64aa-ce64-45ae-a868-0cc7f7bc0018",
   "metadata": {},
   "outputs": [
    {
     "data": {
      "image/png": "[encoded data removed]",
      "text/plain": [
       "<Figure size 640x480 with 1 Axes>"
      ]
     },
     "metadata": {},
     "output_type": "display_data"
    }
   ],
   "source": [
    "plot_pca_projection(pca(DenseMatrix(matrix), 2)[0])\n",
    "plt.show()"
   ]
  },
  {
   "cell_type": "code",
   "execution_count": 26,
   "id": "f34a74f5-2c81-4ebd-a124-7c157af2347e",
   "metadata": {},
   "outputs": [],
   "source": [
    "def reconstruction_error(X_orig: DenseMatrix, X_recon: DenseMatrix) -> float:\n",
    "    \"\"\"\n",
    "    Вход:\n",
    "    X_orig: исходные данные (n × m)\n",
    "    X_recon: восстановленные данные (n × m)\n",
    "    Выход: среднеквадратическая ошибка MSE\n",
    "    \"\"\"\n",
    "    n, m = X_orig.n(), X_orig.m()\n",
    "    mse = 0.0\n",
    "    for i in range(n):\n",
    "        for j in range(m):\n",
    "            mse += (X_orig[i][j] - X_recon[i][j]) ** 2\n",
    "    mse /= (n * m)\n",
    "    return mse"
   ]
  },
  {
   "cell_type": "code",
   "execution_count": 27,
   "id": "51309a65-ee8b-41e4-b0b0-f66818d2434b",
   "metadata": {},
   "outputs": [],
   "source": [
    "def reconstruct_from_pca(X_proj: DenseMatrix, Vs: DenseMatrix, cur_evals: list[float], means: list[float], k: int) -> DenseMatrix:\n",
    "    # 1. Умножаем проекцию на транспонированные собственные векторы\n",
    "    cur_vecs = DenseMatrix.cut_by_vector(Vs)\n",
    "    idxs = sorted(range(len(cur_evals)), key=lambda i: -cur_evals[i])\n",
    "    cur_vecs = DenseMatrix.concatenate_vectors(*[cur_vecs[i] for i in idxs[:k]])\n",
    "    X_recon = X_proj * cur_vecs.T()\n",
    "    # 2. Отменяем центрирование (добавляем среднее)\n",
    "    n, m = X_recon.n(), X_recon.m()\n",
    "\n",
    "    for i in range(n):\n",
    "        for j in range(m):\n",
    "            X_recon[i][j] = X_recon[i][j] + means[j]\n",
    "\n",
    "    return X_recon"
   ]
  },
  {
   "cell_type": "code",
   "execution_count": 28,
   "id": "a36153d6-c0ad-4216-b3c0-8b417decaa12",
   "metadata": {},
   "outputs": [],
   "source": [
    "n_components = 2\n",
    "dmatrix = DenseMatrix(matrix)\n",
    "X_proj = pca(dmatrix, n_components)[0]\n",
    "evals = find_eigenvalues(covariance_matrix(dmatrix))\n",
    "evecs = find_eigenvectors(covariance_matrix(dmatrix), evals)\n",
    "X_recon = reconstruct_from_pca(\n",
    "    X_proj, evecs, evals, dmatrix.means(), n_components)"
   ]
  },
  {
   "cell_type": "code",
   "execution_count": 29,
   "id": "e9bd4c58-6017-4a11-8ce4-0c5385f7f1fe",
   "metadata": {},
   "outputs": [
    {
     "data": {
      "text/plain": [
       "19.330930976759394"
      ]
     },
     "execution_count": 29,
     "metadata": {},
     "output_type": "execute_result"
    }
   ],
   "source": [
    "reconstruction_error(dmatrix, X_recon) ** 0.5"
   ]
  },
  {
   "cell_type": "code",
   "execution_count": 30,
   "id": "a38936ac-f88c-4462-8d83-7e66963f803d",
   "metadata": {},
   "outputs": [],
   "source": [
    "from sklearn.decomposition import PCA"
   ]
  },
  {
   "cell_type": "code",
   "execution_count": 31,
   "id": "0ccd7dd4-7973-4a9c-9a25-a29e950985a4",
   "metadata": {},
   "outputs": [],
   "source": [
    "def calculate_reconstruction_error(X, n_components_range):\n",
    "    errors = []\n",
    "    \n",
    "    for n in n_components_range:\n",
    "        pca = PCA(n_components=n)\n",
    "        X_transformed = pca.fit_transform(X)\n",
    "        \n",
    "        X_reconstructed = pca.inverse_transform(X_transformed)\n",
    "        \n",
    "        mse = np.mean((X - X_reconstructed) ** 2)\n",
    "        errors.append(mse)\n",
    "    \n",
    "    return errors"
   ]
  },
  {
   "cell_type": "code",
   "execution_count": 32,
   "id": "cd00da60-be19-49f0-9bd3-193964be83b1",
   "metadata": {},
   "outputs": [
    {
     "data": {
      "text/plain": [
       "np.float64(19.330930976759397)"
      ]
     },
     "execution_count": 32,
     "metadata": {},
     "output_type": "execute_result"
    }
   ],
   "source": [
    "calculate_reconstruction_error(np.array(matrix), [2])[0] ** 0.5"
   ]
  },
  {
   "cell_type": "code",
   "execution_count": null,
   "id": "74a94b66-88a2-4851-8bb9-8ed0ee1abc53",
   "metadata": {},
   "outputs": [],
   "source": []
  }
 ],
 "metadata": {
  "kernelspec": {
   "display_name": "Python 3 (ipykernel)",
   "language": "python",
   "name": "python3"
  },
  "language_info": {
   "codemirror_mode": {
    "name": "ipython",
    "version": 3
   },
   "file_extension": ".py",
   "mimetype": "text/x-python",
   "name": "python",
   "nbconvert_exporter": "python",
   "pygments_lexer": "ipython3",
   "version": "3.11.11"
  }
 },
 "nbformat": 4,
 "nbformat_minor": 5
}
